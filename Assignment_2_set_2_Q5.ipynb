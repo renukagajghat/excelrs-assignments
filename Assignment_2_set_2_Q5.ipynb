{
  "nbformat": 4,
  "nbformat_minor": 0,
  "metadata": {
    "colab": {
      "provenance": []
    },
    "kernelspec": {
      "name": "python3",
      "display_name": "Python 3"
    },
    "language_info": {
      "name": "python"
    }
  },
  "cells": [
    {
      "cell_type": "code",
      "execution_count": null,
      "metadata": {
        "id": "WYVMJPFLQT-n"
      },
      "outputs": [],
      "source": [
        "import numpy as np\n",
        "from scipy import stats\n",
        "from scipy.stats import norm"
      ]
    },
    {
      "cell_type": "code",
      "source": [
        "# Mean profits from two different divisions of a company = Mean1 + Mean2\n",
        "Mean = 5+7\n",
        "print('Mean Profit is Rs', Mean*45,'Million')"
      ],
      "metadata": {
        "colab": {
          "base_uri": "https://localhost:8080/"
        },
        "id": "URSjeRGERz3N",
        "outputId": "aaf3546d-9153-4195-e2c7-20bf54451d8b"
      },
      "execution_count": null,
      "outputs": [
        {
          "output_type": "stream",
          "name": "stdout",
          "text": [
            "Mean Profit is Rs 540 Million\n"
          ]
        }
      ]
    },
    {
      "cell_type": "code",
      "source": [
        "# Variance of profits from two different divisions of a company = SD^2 = SD1^2 + SD2^2\n",
        "SD = np.sqrt((9)+(16))\n",
        "print('Standard Deviation is Rs', SD*45, 'Million')"
      ],
      "metadata": {
        "colab": {
          "base_uri": "https://localhost:8080/"
        },
        "id": "WjerYO6JTB8e",
        "outputId": "97a7069c-6802-422c-89ef-0711daf19cac"
      },
      "execution_count": null,
      "outputs": [
        {
          "output_type": "stream",
          "name": "stdout",
          "text": [
            "Standard Deviation is Rs 225.0 Million\n"
          ]
        }
      ]
    },
    {
      "cell_type": "code",
      "source": [
        "# A. Specify a Rupee range (centered on the mean) such that it contains 95% probability for the annual profit of the company.\n",
        "print('Range is Rs',(stats.norm.interval(0.95,540,225)),'in Millions')"
      ],
      "metadata": {
        "colab": {
          "base_uri": "https://localhost:8080/"
        },
        "id": "--pV6ZGUTLZL",
        "outputId": "f8fa421d-4e21-404e-a6fd-91f1abd537b4"
      },
      "execution_count": null,
      "outputs": [
        {
          "output_type": "stream",
          "name": "stdout",
          "text": [
            "Range is Rs (99.00810347848784, 980.9918965215122) in Millions\n"
          ]
        }
      ]
    },
    {
      "cell_type": "code",
      "source": [
        "# B. Specify the 5th percentile of profit (in Rupees) for the company\n",
        "# To compute 5th Percentile, we use the formula X=μ + Zσ; wherein from z table, 5 percentile = -1.645\n",
        "X= 540+(-1.645)*(225)\n",
        "print('5th percentile of profit (in Million Rupees) is',np.round(X,))"
      ],
      "metadata": {
        "colab": {
          "base_uri": "https://localhost:8080/"
        },
        "id": "x_oxr6zlTS5Q",
        "outputId": "20467694-2284-47b3-a96a-e90c43be2732"
      },
      "execution_count": null,
      "outputs": [
        {
          "output_type": "stream",
          "name": "stdout",
          "text": [
            "5th percentile of profit (in Million Rupees) is 170.0\n"
          ]
        }
      ]
    },
    {
      "cell_type": "code",
      "source": [
        "# C. Which of the two divisions has a larger probability of making a loss in a given year?\n"
      ],
      "metadata": {
        "id": "_gZE3wlBTZzt"
      },
      "execution_count": null,
      "outputs": []
    },
    {
      "cell_type": "code",
      "source": [
        "# Probability of Division 1 making a loss P(X<0)\n",
        "stats.norm.cdf(0,5,3)"
      ],
      "metadata": {
        "colab": {
          "base_uri": "https://localhost:8080/"
        },
        "id": "DjErTbuhTb4T",
        "outputId": "74a0e1f9-2420-4027-eb4f-a7266e82610a"
      },
      "execution_count": null,
      "outputs": [
        {
          "output_type": "execute_result",
          "data": {
            "text/plain": [
              "0.0477903522728147"
            ]
          },
          "metadata": {},
          "execution_count": 6
        }
      ]
    },
    {
      "cell_type": "code",
      "source": [
        "# Probability of Division 2 making a loss P(X<0)\n",
        "stats.norm.cdf(0,7,4)"
      ],
      "metadata": {
        "colab": {
          "base_uri": "https://localhost:8080/"
        },
        "id": "MtwHTA6KTcMJ",
        "outputId": "62020aa2-9d09-4fae-9749-b4fc5ce33198"
      },
      "execution_count": null,
      "outputs": [
        {
          "output_type": "execute_result",
          "data": {
            "text/plain": [
              "0.040059156863817086"
            ]
          },
          "metadata": {},
          "execution_count": 7
        }
      ]
    }
  ]
}